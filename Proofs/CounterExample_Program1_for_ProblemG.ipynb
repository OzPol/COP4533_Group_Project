{
 "cells": [
  {
   "cell_type": "markdown",
   "metadata": {},
   "source": [
    "### **Question 1: Example showing Algorithm1 does not always solve ProblemG**\n",
    "\n",
    "**Algorithm1** doesn’t yield the optimal solution for **ProblemG**.\n",
    "\n",
    "#### **Input Example:**\n",
    "- **Number of sculptures (n):** 4\n",
    "- **Platform width (W):** 10\n",
    "- **Heights of sculptures (h):** [5, 10, 20, 30]\n",
    "- **Widths of sculptures (w):** [4, 4, 2, 4]\n",
    "\n",
    "#### **Expected Optimal Solution:**\n",
    "\n",
    "- Group sculptures `[5]` on one platform:\n",
    "  - **Platform 1**: Total width = 4, max height = 5.\n",
    "- Group sculptures `[10, 20, 30]` together on one platform:\n",
    "  - **Platform 2**: Total width = 10 (4 + 2 + 4), max height = 30.\n",
    "\n",
    "- **Total cost**: 30 + 5 = **35**.\n",
    "\n",
    "#### **Algorithm1's Greedy Result:**\n",
    "Algorithm1 processes sculptures from left to right, and greedily adds items to the platform until the width exceeds the limit. The greedy approach would do the following:\n",
    "\n",
    "- **Platform 1**: Add sculptures `[5, 10, 20]`. Total width = 10 (2 + 4 + 4), max height = 20.\n",
    "- **Platform 2**: Add sculptures `[30]`. Total width = 4, max height = 30.\n",
    "\n",
    "- **Total cost**: 20 + 30 = **50**.\n",
    "\n",
    "#### **Conclusion:**\n",
    "While the optimal solution has a total height of **35**, **Algorithm1** results in a total height of **50**. This demonstrates that **Algorithm1** does not always yield the optimal solution in the general version of the problem (ProblemG), as it processes sculptures in a greedy fashion without considering the best arrangement for minimizing the total height.\n"
   ]
  },
  {
   "cell_type": "markdown",
   "metadata": {},
   "source": []
  }
 ],
 "metadata": {
  "language_info": {
   "name": "python"
  }
 },
 "nbformat": 4,
 "nbformat_minor": 2
}
