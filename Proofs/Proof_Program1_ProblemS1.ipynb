{
 "cells": [
  {
   "cell_type": "markdown",
   "metadata": {},
   "source": [
    "## ProblemS1: Monotonically Non-Increasing Heights\n",
    "\n",
    "The goal of this problem is to arrange `n` sculptures with given heights `h1, ..., hn` and base widths `w1, ..., wn` onto platforms. Each platform can have a total width of at most `W`, and the height of each platform is determined by the tallest sculpture placed on it. The heights of the sculptures are given in a monotonically non-increasing order, which means that `h1 ≥ h2 ≥ ... ≥ hn`. The objective is to minimize the total height, which is the sum of the tallest sculpture on each platform.\n",
    "\n",
    "### Greedy Algorithm Approach:\n",
    "The algorithm operates greedily by iterating through the sculptures and packing them onto platforms as long as the total width of the platform does not exceed `W`. When the width limit is reached, the current platform is finalized, and a new one is started.\n",
    "\n",
    "### Proof of Correctness\n",
    "\n",
    "We will prove the correctness of the algorithm by using a **greedy strategy** and showing that no better solution exists by packing sculptures in this manner.\n",
    "\n",
    "### Initialization:\n",
    "- We initialize variables to keep track of the current platform's width and height.\n",
    "- We iterate through each sculpture, checking if it can fit on the current platform without exceeding the width `W`.\n",
    "\n",
    "### Greedy Choice:\n",
    "- At each step, the algorithm makes a greedy choice: it places the next sculpture on the current platform if the width constraint is satisfied. If adding the next sculpture would exceed the platform's width, the platform is finalized, and a new one is started.\n",
    "- Since the heights are monotonically non-increasing, placing the tallest sculptures on platforms earlier guarantees that we are always minimizing the total height for each platform.\n",
    "\n",
    "### Correctness by Induction:\n",
    "\n",
    "#### Base Case (`n = 1`):\n",
    "When there is only one sculpture, it is placed on a single platform. The algorithm correctly assigns the height of the platform as the height of the sculpture, and since there is only one sculpture, the width constraint is trivially satisfied. Thus, the algorithm is correct for `n = 1`.\n",
    "\n",
    "#### Inductive Hypothesis:\n",
    "Assume that the algorithm is correct for `n = k` sculptures. That is, for `k` sculptures, the algorithm correctly arranges the sculptures on platforms such that the width of each platform does not exceed `W`, and the total height is minimized.\n",
    "\n",
    "#### Inductive Step (`n = k+1`):\n",
    "Consider the case with `n = k+1` sculptures. The algorithm processes the first `k` sculptures correctly by the inductive hypothesis. When processing the `(k+1)`-th sculpture:\n",
    "- If the current platform has enough width remaining, the sculpture is added to that platform.\n",
    "- If the current platform does not have enough width, the platform is finalized, and a new one is started.\n",
    "\n",
    "By placing the taller sculptures first and ensuring that platforms are finalized as soon as the width exceeds `W`, the algorithm guarantees that no sculptures can be placed more optimally. Any other arrangement would either exceed the width constraint or result in a larger total height, violating the optimality of the solution.\n",
    "\n",
    "### Conclusion:\n",
    "By induction, the algorithm correctly places all sculptures on platforms in such a way that the width of each platform does not exceed `W` and the total height is minimized. Therefore, the algorithm is **correct** for ProblemS1.\n"
   ]
  }
 ],
 "metadata": {
  "language_info": {
   "name": "python"
  }
 },
 "nbformat": 4,
 "nbformat_minor": 2
}
