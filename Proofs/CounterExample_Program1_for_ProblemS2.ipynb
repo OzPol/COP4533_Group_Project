{
 "cells": [
  {
   "cell_type": "markdown",
   "metadata": {},
   "source": [
    "### **Question 2: Example showing Algorithm1 does not always solve ProblemS2**\n",
    "\n",
    "Here’s an input where **Algorithm1** doesn’t yield the optimal solution for **ProblemS2**.\n",
    "\n",
    "#### **Input Example:**\n",
    "- **Number of sculptures (n):** 6\n",
    "- **Platform width (W):** 10\n",
    "- **Heights of sculptures (h):** [35, 15, 10, 5, 75, 85]\n",
    "- **Widths of sculptures (w):** [3, 3, 2, 1, 1, 1]\n",
    "\n",
    "#### **Expected Optimal Solution:**\n",
    "To minimize the total height while maintaining the order:\n",
    "- Group sculptures `[35, 15, 10, 5]` on the first platform:\n",
    "  - **Platform 1**: Total width = 9 (3 + 3 + 2 + 1), max height = 35.\n",
    "- Group sculptures `[75, 85]` on the second platform:\n",
    "  - **Platform 2**: Total width = 2 (1 + 1), max height = 85.\n",
    "\n",
    "- **Total cost**: 35 + 85 = **120**.\n",
    "\n",
    "#### **Algorithm1's Greedy Result:**\n",
    "**Algorithm1** would process the sculptures from left to right in a greedy manner, without considering the possibility of a better partition. Here’s how it would partition the sculptures:\n",
    "\n",
    "- **Platform 1**: Add sculptures `[35, 15, 10, 5, 75]`. Total width = 10 (3 + 3 + 2 + 1 + 1), max height = 75.\n",
    "- **Platform 2**: Add sculpture `[85]`. Total width = 1, max height = 85.\n",
    "\n",
    "- **Total cost**: 75 + 85 = **160**.\n",
    "\n",
    "#### **Conclusion:**\n",
    "In this example, the optimal solution has a total height of **120**, but **Algorithm1** results in a total height of **160**. The greedy algorithm fails to recognize that grouping the last two sculptures together could lead to a lower overall height. Thus, **Algorithm1** does not always solve **ProblemS2** optimally, as it cannot handle the nuances of the unimodal height sequence efficiently.\n"
   ]
  }
 ],
 "metadata": {
  "language_info": {
   "name": "python"
  }
 },
 "nbformat": 4,
 "nbformat_minor": 2
}
