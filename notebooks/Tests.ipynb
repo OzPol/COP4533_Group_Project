{
 "cells": [
  {
   "cell_type": "code",
   "execution_count": null,
   "metadata": {},
   "outputs": [],
   "source": [
    "# Milestone 1 \n",
    "def run_milestone1_tests():\n",
    "    test_cases = [\n",
    "        (7, 10, [21, 19, 17, 16, 11, 5, 1], [7, 1, 2, 3, 5, 8, 1], \"Expected: 3 platforms, Total Height: 42\"),\n",
    "        (4, 10, [8, 10, 9, 7], [8, 1, 2, 2], \"Expected: 2 platforms, Total Height: 18\"),\n",
    "        (7, 10, [12, 10, 9, 7, 8, 10, 11], [3, 2, 3, 4, 3, 2, 3], \"Expected: 3 platforms, Total Height: 30\"),\n",
    "        (1, 5, [5], [3], \"Expected: 1 platform, Total Height: 5\"),\n",
    "        (5, 10, [10, 20, 15, 30, 25], [2, 2, 2, 2, 2], \"Expected: 1 platform, Total Height: 30\")\n",
    "    ]\n",
    "\n",
    "    for i, (n, W, heights, widths, description) in enumerate(test_cases):\n",
    "        print(f\"Running Test Case {i+1}: {description}\")\n",
    "        platforms, total_height, sculptures_per_platform = program1(n, W, heights, widths)\n",
    "        print(f\"Result: Platforms: {platforms}, Total Height: {total_height}, Sculptures per Platform: {sculptures_per_platform}\\n\")\n",
    "\n",
    "# Run the tests for Milestone 1\n",
    "run_milestone1_tests()"
   ]
  },
  {
   "cell_type": "code",
   "execution_count": 1,
   "metadata": {},
   "outputs": [],
   "source": [
    "# Milestone 2\n",
    "\n",
    "def run_milestone2_tests():\n",
    "    test_cases = [\n",
    "        (7, 10, [21, 19, 17, 16, 11, 5, 1], [7, 1, 2, 3, 5, 8, 1], \"Expected: 3 platforms, Total Height: 42\"),\n",
    "        (4, 10, [8, 10, 9, 7], [8, 1, 2, 2], \"Expected: 2 platforms, Total Height: 18\"),\n",
    "        (7, 10, [12, 10, 9, 7, 8, 10, 11], [3, 2, 3, 4, 3, 2, 3], \"Expected: 3 platforms, Total Height: 30\"),\n",
    "        (1, 5, [5], [3], \"Expected: 1 platform, Total Height: 5\"),\n",
    "        (5, 10, [10, 20, 15, 30, 25], [2, 2, 2, 2, 2], \"Expected: 1 platform, Total Height: 30\")\n",
    "    ]\n",
    "\n",
    "    for i, (n, W, heights, widths, description) in enumerate(test_cases):\n",
    "        print(f\"Running Test Case {i+1}: {description}\")\n",
    "        platforms, total_height, sculptures_per_platform = program2(n, W, heights, widths)\n",
    "        print(f\"Result: Platforms: {platforms}, Total Height: {total_height}, Sculptures per Platform: {sculptures_per_platform}\\n\")\n",
    "\n",
    "# Run the tests for Milestone 2\n",
    "run_milestone2_tests()"
   ]
  },
  {
   "cell_type": "code",
   "execution_count": null,
   "metadata": {},
   "outputs": [],
   "source": [
    "# Milestone 3\n",
    "def run_milestone3_tests():\n",
    "    test_cases = [\n",
    "        (7, 10, [21, 19, 17, 16, 11, 5, 1], [7, 1, 2, 3, 5, 8, 1], \"Expected: 3 platforms, Total Height: 42\"),\n",
    "        (4, 10, [8, 10, 9, 7], [8, 1, 2, 2], \"Expected: 2 platforms, Total Height: 18\"),\n",
    "        (7, 10, [12, 10, 9, 7, 8, 10, 11], [3, 2, 3, 4, 3, 2, 3], \"Expected: 3 platforms, Total Height: 30\"),\n",
    "        (1, 5, [5], [3], \"Expected: 1 platform, Total Height: 5\"),\n",
    "        (5, 10, [10, 20, 15, 30, 25], [2, 2, 2, 2, 2], \"Expected: 1 platform, Total Height: 30\")\n",
    "    ]\n",
    "\n",
    "    for i, (n, W, heights, widths, description) in enumerate(test_cases):\n",
    "        print(f\"Running Test Case {i+1}: {description}\")\n",
    "        platforms, total_height, sculptures_per_platform = program3(n, W, heights, widths)\n",
    "        print(f\"Result: Platforms: {platforms}, Total Height: {total_height}, Sculptures per Platform: {sculptures_per_platform}\\n\")\n",
    "\n",
    "# Run the tests for Milestone 3\n",
    "run_milestone3_tests()"
   ]
  },
  {
   "cell_type": "markdown",
   "metadata": {},
   "source": [
    "Milestone 1 - Test Case Code (C++)"
   ]
  },
  {
   "cell_type": "markdown",
   "metadata": {},
   "source": [
    "    void run_milestone1_tests() {\n",
    "        vector<tuple<int, int, vector<int>, vector<int>, string>> test_cases = {\n",
    "            {7, 10, {21, 19, 17, 16, 11, 5, 1}, {7, 1, 2, 3, 5, 8, 1}, \"Expected: 3 platforms, Total Height: 42\"},\n",
    "            {4, 10, {8, 10, 9, 7}, {8, 1, 2, 2}, \"Expected: 2 platforms, Total Height: 18\"},\n",
    "            {7, 10, {12, 10, 9, 7, 8, 10, 11}, {3, 2, 3, 4, 3, 2, 3}, \"Expected: 3 platforms, Total Height: 30\"},\n",
    "            {1, 5, {5}, {3}, \"Expected: 1 platform, Total Height: 5\"},\n",
    "            {5, 10, {10, 20, 15, 30, 25}, {2, 2, 2, 2, 2}, \"Expected: 1 platform, Total Height: 30\"}\n",
    "        };\n",
    "\n",
    "        for (size_t i = 0; i < test_cases.size(); ++i) {\n",
    "            auto [n, W, heights, widths, description] = test_cases[i];\n",
    "            cout << \"Running Test Case \" << i + 1 << \": \" << description << endl;\n",
    "            auto [platforms, total_height, sculptures_per_platform] = program1(n, W, heights, widths);\n",
    "            cout << \"Result: Platforms: \" << platforms << \", Total Height: \" << total_height << \", Sculptures per Platform: \";\n",
    "            for (int sculptures : sculptures_per_platform) {\n",
    "                cout << sculptures << \" \";\n",
    "            }\n",
    "            cout << endl << endl;\n",
    "        }\n",
    "    }\n",
    "\n",
    "    int main() {\n",
    "        run_milestone1_tests();\n",
    "        return 0;\n",
    "    }\n"
   ]
  },
  {
   "cell_type": "markdown",
   "metadata": {},
   "source": [
    "Milestone 2 - Test Case Code (C++)"
   ]
  },
  {
   "cell_type": "markdown",
   "metadata": {},
   "source": [
    "    void run_milestone2_tests() {\n",
    "        vector<tuple<int, int, vector<int>, vector<int>, string>> test_cases = {\n",
    "            {7, 10, {21, 19, 17, 16, 11, 5, 1}, {7, 1, 2, 3, 5, 8, 1}, \"Expected: 3 platforms, Total Height: 42\"},\n",
    "            {4, 10, {8, 10, 9, 7}, {8, 1, 2, 2}, \"Expected: 2 platforms, Total Height: 18\"},\n",
    "            {7, 10, {12, 10, 9, 7, 8, 10, 11}, {3, 2, 3, 4, 3, 2, 3}, \"Expected: 3 platforms, Total Height: 30\"},\n",
    "            {1, 5, {5}, {3}, \"Expected: 1 platform, Total Height: 5\"},\n",
    "            {5, 10, {10, 20, 15, 30, 25}, {2, 2, 2, 2, 2}, \"Expected: 1 platform, Total Height: 30\"}\n",
    "        };\n",
    "\n",
    "        for (size_t i = 0; i < test_cases.size(); ++i) {\n",
    "            auto [n, W, heights, widths, description] = test_cases[i];\n",
    "            cout << \"Running Test Case \" << i + 1 << \": \" << description << endl;\n",
    "            auto [platforms, total_height, sculptures_per_platform] = program2(n, W, heights, widths);\n",
    "            cout << \"Result: Platforms: \" << platforms << \", Total Height: \" << total_height << \", Sculptures per Platform: \";\n",
    "            for (int sculptures : sculptures_per_platform) {\n",
    "                cout << sculptures << \" \";\n",
    "            }\n",
    "            cout << endl << endl;\n",
    "        }\n",
    "    }\n",
    "\n",
    "    int main() {\n",
    "        run_milestone2_tests();\n",
    "        return 0;\n",
    "    }\n"
   ]
  },
  {
   "cell_type": "markdown",
   "metadata": {},
   "source": [
    "Milestone 3 - Test Case Code (C++)"
   ]
  },
  {
   "cell_type": "markdown",
   "metadata": {},
   "source": [
    "    void run_milestone3_tests() {\n",
    "        vector<tuple<int, int, vector<int>, vector<int>, string>> test_cases = {\n",
    "            {7, 10, {21, 19, 17, 16, 11, 5, 1}, {7, 1, 2, 3, 5, 8, 1}, \"Expected: 3 platforms, Total Height: 42\"},\n",
    "            {4, 10, {8, 10, 9, 7}, {8, 1, 2, 2}, \"Expected: 2 platforms, Total Height: 18\"},\n",
    "            {7, 10, {12, 10, 9, 7, 8, 10, 11}, {3, 2, 3, 4, 3, 2, 3}, \"Expected: 3 platforms, Total Height: 30\"},\n",
    "            {1, 5, {5}, {3}, \"Expected: 1 platform, Total Height: 5\"},\n",
    "            {5, 10, {10, 20, 15, 30, 25}, {2, 2, 2, 2, 2}, \"Expected: 1 platform, Total Height: 30\"}\n",
    "        };\n",
    "\n",
    "        for (size_t i = 0; i < test_cases.size(); ++i) {\n",
    "            auto [n, W, heights, widths, description] = test_cases[i];\n",
    "            cout << \"Running Test Case \" << i + 1 << \": \" << description << endl;\n",
    "            auto [platforms, total_height, sculptures_per_platform] = program3(n, W, heights, widths);\n",
    "            cout << \"Result: Platforms: \" << platforms << \", Total Height: \" << total_height << \", Sculptures per Platform: \";\n",
    "            for (int sculptures : sculptures_per_platform) {\n",
    "                cout << sculptures << \" \";\n",
    "            }\n",
    "            cout << endl << endl;\n",
    "        }\n",
    "    }\n",
    "\n",
    "    int main() {\n",
    "        run_milestone3_tests();\n",
    "        return 0;\n",
    "    }\n"
   ]
  }
 ],
 "metadata": {
  "kernelspec": {
   "display_name": "Python 3",
   "language": "python",
   "name": "python3"
  },
  "language_info": {
   "codemirror_mode": {
    "name": "ipython",
    "version": 3
   },
   "file_extension": ".py",
   "mimetype": "text/x-python",
   "name": "python",
   "nbconvert_exporter": "python",
   "pygments_lexer": "ipython3",
   "version": "3.11.2"
  }
 },
 "nbformat": 4,
 "nbformat_minor": 2
}
